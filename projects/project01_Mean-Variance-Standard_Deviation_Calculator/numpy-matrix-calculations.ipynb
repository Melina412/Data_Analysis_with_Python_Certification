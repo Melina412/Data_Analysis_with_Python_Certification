{
 "cells": [
  {
   "cell_type": "code",
   "execution_count": 2,
   "metadata": {},
   "outputs": [],
   "source": [
    "import numpy as np"
   ]
  },
  {
   "cell_type": "code",
   "execution_count": 3,
   "metadata": {},
   "outputs": [],
   "source": [
    "matrix = np.array([[0,1,2],[3,4,5],[6,7,8]])"
   ]
  },
  {
   "cell_type": "code",
   "execution_count": 4,
   "metadata": {},
   "outputs": [
    {
     "data": {
      "text/plain": [
       "array([[0, 1, 2],\n",
       "       [3, 4, 5],\n",
       "       [6, 7, 8]])"
      ]
     },
     "execution_count": 4,
     "metadata": {},
     "output_type": "execute_result"
    }
   ],
   "source": [
    "matrix"
   ]
  },
  {
   "cell_type": "code",
   "execution_count": 5,
   "metadata": {},
   "outputs": [
    {
     "name": "stdout",
     "output_type": "stream",
     "text": [
      "[3.0, 4.0, 5.0] [1.0, 4.0, 7.0] 4.0\n"
     ]
    }
   ],
   "source": [
    "mean_0 = matrix.mean(0).tolist()\n",
    "mean_1 = matrix.mean(1).tolist()\n",
    "mean_flat = matrix.mean()\n",
    "\n",
    "print(mean_0, mean_1, mean_flat)"
   ]
  },
  {
   "cell_type": "code",
   "execution_count": 6,
   "metadata": {},
   "outputs": [
    {
     "name": "stdout",
     "output_type": "stream",
     "text": [
      "[6.0, 6.0, 6.0] [0.6666666666666666, 0.6666666666666666, 0.6666666666666666] 6.666666666666667\n"
     ]
    }
   ],
   "source": [
    "\n",
    "var_0 = matrix.var(0).tolist()\n",
    "var_1 = matrix.var(1).tolist()\n",
    "var_flat = matrix.var()\n",
    "\n",
    "print(var_0, var_1, var_flat)"
   ]
  },
  {
   "cell_type": "code",
   "execution_count": 7,
   "metadata": {},
   "outputs": [
    {
     "name": "stdout",
     "output_type": "stream",
     "text": [
      "[2.449489742783178, 2.449489742783178, 2.449489742783178] [0.816496580927726, 0.816496580927726, 0.816496580927726] 2.581988897471611\n"
     ]
    }
   ],
   "source": [
    "std_0 = matrix.std(0).tolist()\n",
    "std_1 = matrix.std(1).tolist()\n",
    "std_flat = matrix.std()\n",
    "\n",
    "print(std_0, std_1, std_flat)"
   ]
  },
  {
   "cell_type": "code",
   "execution_count": 8,
   "metadata": {},
   "outputs": [
    {
     "name": "stdout",
     "output_type": "stream",
     "text": [
      "[6, 7, 8] [2, 5, 8] 8\n"
     ]
    }
   ],
   "source": [
    "max_0 = matrix.max(0).tolist()\n",
    "max_1 = matrix.max(1).tolist()\n",
    "max_flat = matrix.max()\n",
    "\n",
    "print(max_0, max_1, max_flat)"
   ]
  },
  {
   "cell_type": "code",
   "execution_count": 9,
   "metadata": {},
   "outputs": [
    {
     "name": "stdout",
     "output_type": "stream",
     "text": [
      "[0, 1, 2] [0, 3, 6] 0\n"
     ]
    }
   ],
   "source": [
    "min_0 = matrix.min(0).tolist()\n",
    "min_1 = matrix.min(1).tolist()\n",
    "min_flat = matrix.min()\n",
    "\n",
    "print(min_0, min_1, min_flat)"
   ]
  },
  {
   "cell_type": "code",
   "execution_count": 10,
   "metadata": {},
   "outputs": [
    {
     "name": "stdout",
     "output_type": "stream",
     "text": [
      "[9, 12, 15] [3, 12, 21] 36\n"
     ]
    }
   ],
   "source": [
    "sum_0 = matrix.sum(0).tolist()\n",
    "sum_1 = matrix.sum(1).tolist()\n",
    "sum_flat = matrix.sum()\n",
    "\n",
    "print(sum_0, sum_1, sum_flat)"
   ]
  },
  {
   "cell_type": "code",
   "execution_count": 11,
   "metadata": {},
   "outputs": [
    {
     "name": "stdout",
     "output_type": "stream",
     "text": [
      "{'mean': [[3.0, 4.0, 5.0], [1.0, 4.0, 7.0], 4.0], 'variance': [[6.0, 6.0, 6.0], [0.6666666666666666, 0.6666666666666666, 0.6666666666666666], 6.666666666666667], 'standard deviation': [[2.449489742783178, 2.449489742783178, 2.449489742783178], [0.816496580927726, 0.816496580927726, 0.816496580927726], 2.581988897471611], 'max': [[6, 7, 8], [2, 5, 8], 8], 'min': [[0, 1, 2], [0, 3, 6], 0], 'sum': [[9, 12, 15], [3, 12, 21], 36]}\n"
     ]
    }
   ],
   "source": [
    "dict = {\n",
    "    'mean': [mean_0, mean_1, mean_flat],\n",
    "    'variance': [var_0, var_1, var_flat],\n",
    "  'standard deviation': [std_0, std_1, std_flat],\n",
    "  'max': [max_0, max_1, max_flat],\n",
    "  'min': [min_0, min_1 , min_flat],\n",
    "  'sum': [sum_0, sum_1, sum_flat]\n",
    "}\n",
    "print(dict)"
   ]
  },
  {
   "cell_type": "code",
   "execution_count": 12,
   "metadata": {},
   "outputs": [
    {
     "name": "stdout",
     "output_type": "stream",
     "text": [
      "9\n"
     ]
    }
   ],
   "source": [
    "liste = [0, 1, 2, 3, 4, 5, 6, 7, 8]\n",
    "\n",
    "print(len(liste))"
   ]
  },
  {
   "cell_type": "code",
   "execution_count": 13,
   "metadata": {},
   "outputs": [
    {
     "data": {
      "text/plain": [
       "{'mean': [[3.0, 4.0, 5.0], [1.0, 4.0, 7.0], 4.0],\n",
       " 'variance': [[6.0, 6.0, 6.0],\n",
       "  [0.6666666666666666, 0.6666666666666666, 0.6666666666666666],\n",
       "  6.666666666666667],\n",
       " 'standard deviation': [[2.449489742783178,\n",
       "   2.449489742783178,\n",
       "   2.449489742783178],\n",
       "  [0.816496580927726, 0.816496580927726, 0.816496580927726],\n",
       "  2.581988897471611],\n",
       " 'max': [[6, 7, 8], [2, 5, 8], 8],\n",
       " 'min': [[0, 1, 2], [0, 3, 6], 0],\n",
       " 'sum': [[9, 12, 15], [3, 12, 21], 36]}"
      ]
     },
     "execution_count": 13,
     "metadata": {},
     "output_type": "execute_result"
    }
   ],
   "source": [
    "list = [0, 1, 2, 3, 4, 5, 6, 7, 8]\n",
    "def calculate(list):\n",
    "    if len(list) != 9:\n",
    "        raise ValueError('List must contain nine numbers.')\n",
    "    else:\n",
    "        # list = [number for number in list]\n",
    "        # print('list', list)\n",
    "        x = np.array(list).reshape(3, 3)\n",
    "        # print('x', x)\n",
    "        \n",
    "        dict = {\n",
    "        'mean': [x.mean(0), x.mean(1), x.mean()],\n",
    "        'variance': [x.var(0), x.var(1), x.var()],\n",
    "        'standard deviation': [x.std(0), x.std(1), x.std()],\n",
    "        'max': [x.max(0), x.max(1), x.max()],\n",
    "        'min': [x.min(0), x.min(1), x.min()],\n",
    "        'sum': [x.sum(0), x.sum(1), x.sum()]\n",
    "        }\n",
    "\n",
    "        dict = {key: [value.tolist() for value in values] for key, values in dict.items()}\n",
    "        \n",
    "        return dict\n",
    "        \n",
    "calculate(list)"
   ]
  }
 ],
 "metadata": {
  "kernelspec": {
   "display_name": "Python 3",
   "language": "python",
   "name": "python3"
  },
  "language_info": {
   "codemirror_mode": {
    "name": "ipython",
    "version": 3
   },
   "file_extension": ".py",
   "mimetype": "text/x-python",
   "name": "python",
   "nbconvert_exporter": "python",
   "pygments_lexer": "ipython3",
   "version": "3.9.13"
  }
 },
 "nbformat": 4,
 "nbformat_minor": 2
}
