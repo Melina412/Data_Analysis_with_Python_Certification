{
 "cells": [
  {
   "cell_type": "code",
   "execution_count": 1,
   "metadata": {},
   "outputs": [],
   "source": [
    "import pandas as pd"
   ]
  },
  {
   "cell_type": "code",
   "execution_count": 2,
   "metadata": {},
   "outputs": [],
   "source": [
    "csv_file_path = './adult.data.csv'\n",
    "df = pd.read_csv(csv_file_path)"
   ]
  },
  {
   "cell_type": "code",
   "execution_count": 42,
   "metadata": {},
   "outputs": [
    {
     "data": {
      "text/plain": [
       "488415"
      ]
     },
     "execution_count": 42,
     "metadata": {},
     "output_type": "execute_result"
    }
   ],
   "source": [
    "df.size"
   ]
  },
  {
   "cell_type": "code",
   "execution_count": 22,
   "metadata": {},
   "outputs": [
    {
     "data": {
      "text/html": [
       "<div>\n",
       "<style scoped>\n",
       "    .dataframe tbody tr th:only-of-type {\n",
       "        vertical-align: middle;\n",
       "    }\n",
       "\n",
       "    .dataframe tbody tr th {\n",
       "        vertical-align: top;\n",
       "    }\n",
       "\n",
       "    .dataframe thead th {\n",
       "        text-align: right;\n",
       "    }\n",
       "</style>\n",
       "<table border=\"1\" class=\"dataframe\">\n",
       "  <thead>\n",
       "    <tr style=\"text-align: right;\">\n",
       "      <th></th>\n",
       "      <th>age</th>\n",
       "      <th>workclass</th>\n",
       "      <th>fnlwgt</th>\n",
       "      <th>education</th>\n",
       "      <th>education-num</th>\n",
       "      <th>marital-status</th>\n",
       "      <th>occupation</th>\n",
       "      <th>relationship</th>\n",
       "      <th>race</th>\n",
       "      <th>sex</th>\n",
       "      <th>capital-gain</th>\n",
       "      <th>capital-loss</th>\n",
       "      <th>hours-per-week</th>\n",
       "      <th>native-country</th>\n",
       "      <th>salary</th>\n",
       "    </tr>\n",
       "  </thead>\n",
       "  <tbody>\n",
       "    <tr>\n",
       "      <th>0</th>\n",
       "      <td>39</td>\n",
       "      <td>State-gov</td>\n",
       "      <td>77516</td>\n",
       "      <td>Bachelors</td>\n",
       "      <td>13</td>\n",
       "      <td>Never-married</td>\n",
       "      <td>Adm-clerical</td>\n",
       "      <td>Not-in-family</td>\n",
       "      <td>White</td>\n",
       "      <td>Male</td>\n",
       "      <td>2174</td>\n",
       "      <td>0</td>\n",
       "      <td>40</td>\n",
       "      <td>United-States</td>\n",
       "      <td>&lt;=50K</td>\n",
       "    </tr>\n",
       "    <tr>\n",
       "      <th>1</th>\n",
       "      <td>50</td>\n",
       "      <td>Self-emp-not-inc</td>\n",
       "      <td>83311</td>\n",
       "      <td>Bachelors</td>\n",
       "      <td>13</td>\n",
       "      <td>Married-civ-spouse</td>\n",
       "      <td>Exec-managerial</td>\n",
       "      <td>Husband</td>\n",
       "      <td>White</td>\n",
       "      <td>Male</td>\n",
       "      <td>0</td>\n",
       "      <td>0</td>\n",
       "      <td>13</td>\n",
       "      <td>United-States</td>\n",
       "      <td>&lt;=50K</td>\n",
       "    </tr>\n",
       "    <tr>\n",
       "      <th>2</th>\n",
       "      <td>38</td>\n",
       "      <td>Private</td>\n",
       "      <td>215646</td>\n",
       "      <td>HS-grad</td>\n",
       "      <td>9</td>\n",
       "      <td>Divorced</td>\n",
       "      <td>Handlers-cleaners</td>\n",
       "      <td>Not-in-family</td>\n",
       "      <td>White</td>\n",
       "      <td>Male</td>\n",
       "      <td>0</td>\n",
       "      <td>0</td>\n",
       "      <td>40</td>\n",
       "      <td>United-States</td>\n",
       "      <td>&lt;=50K</td>\n",
       "    </tr>\n",
       "    <tr>\n",
       "      <th>3</th>\n",
       "      <td>53</td>\n",
       "      <td>Private</td>\n",
       "      <td>234721</td>\n",
       "      <td>11th</td>\n",
       "      <td>7</td>\n",
       "      <td>Married-civ-spouse</td>\n",
       "      <td>Handlers-cleaners</td>\n",
       "      <td>Husband</td>\n",
       "      <td>Black</td>\n",
       "      <td>Male</td>\n",
       "      <td>0</td>\n",
       "      <td>0</td>\n",
       "      <td>40</td>\n",
       "      <td>United-States</td>\n",
       "      <td>&lt;=50K</td>\n",
       "    </tr>\n",
       "    <tr>\n",
       "      <th>4</th>\n",
       "      <td>28</td>\n",
       "      <td>Private</td>\n",
       "      <td>338409</td>\n",
       "      <td>Bachelors</td>\n",
       "      <td>13</td>\n",
       "      <td>Married-civ-spouse</td>\n",
       "      <td>Prof-specialty</td>\n",
       "      <td>Wife</td>\n",
       "      <td>Black</td>\n",
       "      <td>Female</td>\n",
       "      <td>0</td>\n",
       "      <td>0</td>\n",
       "      <td>40</td>\n",
       "      <td>Cuba</td>\n",
       "      <td>&lt;=50K</td>\n",
       "    </tr>\n",
       "    <tr>\n",
       "      <th>5</th>\n",
       "      <td>37</td>\n",
       "      <td>Private</td>\n",
       "      <td>284582</td>\n",
       "      <td>Masters</td>\n",
       "      <td>14</td>\n",
       "      <td>Married-civ-spouse</td>\n",
       "      <td>Exec-managerial</td>\n",
       "      <td>Wife</td>\n",
       "      <td>White</td>\n",
       "      <td>Female</td>\n",
       "      <td>0</td>\n",
       "      <td>0</td>\n",
       "      <td>40</td>\n",
       "      <td>United-States</td>\n",
       "      <td>&lt;=50K</td>\n",
       "    </tr>\n",
       "    <tr>\n",
       "      <th>6</th>\n",
       "      <td>49</td>\n",
       "      <td>Private</td>\n",
       "      <td>160187</td>\n",
       "      <td>9th</td>\n",
       "      <td>5</td>\n",
       "      <td>Married-spouse-absent</td>\n",
       "      <td>Other-service</td>\n",
       "      <td>Not-in-family</td>\n",
       "      <td>Black</td>\n",
       "      <td>Female</td>\n",
       "      <td>0</td>\n",
       "      <td>0</td>\n",
       "      <td>16</td>\n",
       "      <td>Jamaica</td>\n",
       "      <td>&lt;=50K</td>\n",
       "    </tr>\n",
       "    <tr>\n",
       "      <th>7</th>\n",
       "      <td>52</td>\n",
       "      <td>Self-emp-not-inc</td>\n",
       "      <td>209642</td>\n",
       "      <td>HS-grad</td>\n",
       "      <td>9</td>\n",
       "      <td>Married-civ-spouse</td>\n",
       "      <td>Exec-managerial</td>\n",
       "      <td>Husband</td>\n",
       "      <td>White</td>\n",
       "      <td>Male</td>\n",
       "      <td>0</td>\n",
       "      <td>0</td>\n",
       "      <td>45</td>\n",
       "      <td>United-States</td>\n",
       "      <td>&gt;50K</td>\n",
       "    </tr>\n",
       "    <tr>\n",
       "      <th>8</th>\n",
       "      <td>31</td>\n",
       "      <td>Private</td>\n",
       "      <td>45781</td>\n",
       "      <td>Masters</td>\n",
       "      <td>14</td>\n",
       "      <td>Never-married</td>\n",
       "      <td>Prof-specialty</td>\n",
       "      <td>Not-in-family</td>\n",
       "      <td>White</td>\n",
       "      <td>Female</td>\n",
       "      <td>14084</td>\n",
       "      <td>0</td>\n",
       "      <td>50</td>\n",
       "      <td>United-States</td>\n",
       "      <td>&gt;50K</td>\n",
       "    </tr>\n",
       "    <tr>\n",
       "      <th>9</th>\n",
       "      <td>42</td>\n",
       "      <td>Private</td>\n",
       "      <td>159449</td>\n",
       "      <td>Bachelors</td>\n",
       "      <td>13</td>\n",
       "      <td>Married-civ-spouse</td>\n",
       "      <td>Exec-managerial</td>\n",
       "      <td>Husband</td>\n",
       "      <td>White</td>\n",
       "      <td>Male</td>\n",
       "      <td>5178</td>\n",
       "      <td>0</td>\n",
       "      <td>40</td>\n",
       "      <td>United-States</td>\n",
       "      <td>&gt;50K</td>\n",
       "    </tr>\n",
       "  </tbody>\n",
       "</table>\n",
       "</div>"
      ],
      "text/plain": [
       "   age         workclass  fnlwgt  education  education-num  \\\n",
       "0   39         State-gov   77516  Bachelors             13   \n",
       "1   50  Self-emp-not-inc   83311  Bachelors             13   \n",
       "2   38           Private  215646    HS-grad              9   \n",
       "3   53           Private  234721       11th              7   \n",
       "4   28           Private  338409  Bachelors             13   \n",
       "5   37           Private  284582    Masters             14   \n",
       "6   49           Private  160187        9th              5   \n",
       "7   52  Self-emp-not-inc  209642    HS-grad              9   \n",
       "8   31           Private   45781    Masters             14   \n",
       "9   42           Private  159449  Bachelors             13   \n",
       "\n",
       "          marital-status         occupation   relationship   race     sex  \\\n",
       "0          Never-married       Adm-clerical  Not-in-family  White    Male   \n",
       "1     Married-civ-spouse    Exec-managerial        Husband  White    Male   \n",
       "2               Divorced  Handlers-cleaners  Not-in-family  White    Male   \n",
       "3     Married-civ-spouse  Handlers-cleaners        Husband  Black    Male   \n",
       "4     Married-civ-spouse     Prof-specialty           Wife  Black  Female   \n",
       "5     Married-civ-spouse    Exec-managerial           Wife  White  Female   \n",
       "6  Married-spouse-absent      Other-service  Not-in-family  Black  Female   \n",
       "7     Married-civ-spouse    Exec-managerial        Husband  White    Male   \n",
       "8          Never-married     Prof-specialty  Not-in-family  White  Female   \n",
       "9     Married-civ-spouse    Exec-managerial        Husband  White    Male   \n",
       "\n",
       "   capital-gain  capital-loss  hours-per-week native-country salary  \n",
       "0          2174             0              40  United-States  <=50K  \n",
       "1             0             0              13  United-States  <=50K  \n",
       "2             0             0              40  United-States  <=50K  \n",
       "3             0             0              40  United-States  <=50K  \n",
       "4             0             0              40           Cuba  <=50K  \n",
       "5             0             0              40  United-States  <=50K  \n",
       "6             0             0              16        Jamaica  <=50K  \n",
       "7             0             0              45  United-States   >50K  \n",
       "8         14084             0              50  United-States   >50K  \n",
       "9          5178             0              40  United-States   >50K  "
      ]
     },
     "execution_count": 22,
     "metadata": {},
     "output_type": "execute_result"
    }
   ],
   "source": [
    "df.iloc[0:10]"
   ]
  },
  {
   "cell_type": "code",
   "execution_count": 6,
   "metadata": {},
   "outputs": [
    {
     "name": "stdout",
     "output_type": "stream",
     "text": [
      "White                 27816\n",
      "Black                  3124\n",
      "Asian-Pac-Islander     1039\n",
      "Amer-Indian-Eskimo      311\n",
      "Other                   271\n",
      "Name: race, dtype: int64\n"
     ]
    }
   ],
   "source": [
    "value_counts = df['race'].value_counts()\n",
    "print(value_counts)"
   ]
  },
  {
   "cell_type": "code",
   "execution_count": 7,
   "metadata": {},
   "outputs": [
    {
     "name": "stdout",
     "output_type": "stream",
     "text": [
      "['White' 'Black' 'Asian-Pac-Islander' 'Amer-Indian-Eskimo' 'Other']\n"
     ]
    }
   ],
   "source": [
    "unique_values = df['race'].unique()\n",
    "print(unique_values)"
   ]
  },
  {
   "cell_type": "code",
   "execution_count": 8,
   "metadata": {},
   "outputs": [
    {
     "name": "stdout",
     "output_type": "stream",
     "text": [
      "White                 27816\n",
      "Black                  3124\n",
      "Asian-Pac-Islander     1039\n",
      "Amer-Indian-Eskimo      311\n",
      "Other                   271\n",
      "Name: race, dtype: int64\n"
     ]
    }
   ],
   "source": [
    "race_count = df['race'].value_counts()\n",
    "print(race_count)"
   ]
  },
  {
   "cell_type": "code",
   "execution_count": 94,
   "metadata": {},
   "outputs": [
    {
     "name": "stdout",
     "output_type": "stream",
     "text": [
      "39.4\n"
     ]
    }
   ],
   "source": [
    "men = df[df['sex'] == 'Male']\n",
    "average_age_men = men['age'].mean()\n",
    "average_age_men = round(average_age_men, 1)\n",
    "\n",
    "print(average_age_men)"
   ]
  },
  {
   "cell_type": "code",
   "execution_count": 96,
   "metadata": {},
   "outputs": [
    {
     "name": "stdout",
     "output_type": "stream",
     "text": [
      "HS-grad         32.250238\n",
      "Some-college    22.391818\n",
      "Bachelors       16.446055\n",
      "Masters          5.291607\n",
      "Assoc-voc        4.244341\n",
      "11th             3.608612\n",
      "Assoc-acdm       3.276926\n",
      "10th             2.865391\n",
      "7th-8th          1.983969\n",
      "Prof-school      1.768987\n",
      "9th              1.578576\n",
      "12th             1.329812\n",
      "Doctorate        1.268389\n",
      "5th-6th          1.022696\n",
      "1st-4th          0.515955\n",
      "Preschool        0.156629\n",
      "Name: education, dtype: float64\n",
      "16.4\n"
     ]
    }
   ],
   "source": [
    "education = df['education']\n",
    "percentage_education = education.value_counts(normalize=True) * 100\n",
    "percentage_bachelors = percentage_education['Bachelors']\n",
    "percentage_bachelors = round(percentage_bachelors, 1)\n",
    "\n",
    "print(percentage_education)\n",
    "print(percentage_bachelors)"
   ]
  },
  {
   "cell_type": "code",
   "execution_count": 97,
   "metadata": {},
   "outputs": [
    {
     "name": "stdout",
     "output_type": "stream",
     "text": [
      "112365\n",
      "376050\n"
     ]
    }
   ],
   "source": [
    "\n",
    "higher_education = df.loc[df['education'].isin(['Bachelors', 'Masters', 'Doctorate'])]\n",
    "lower_education = df.loc[~df['education'].isin(['Bachelors', 'Masters', 'Doctorate'])]\n",
    "higher_education = round(higher_education, 1)\n",
    "lower_education = round(lower_education, 1)\n",
    "\n",
    "print(higher_education.size)\n",
    "print(lower_education.size)"
   ]
  },
  {
   "cell_type": "code",
   "execution_count": 98,
   "metadata": {},
   "outputs": [
    {
     "name": "stdout",
     "output_type": "stream",
     "text": [
      "0        <=50K\n",
      "1        <=50K\n",
      "4        <=50K\n",
      "5        <=50K\n",
      "8         >50K\n",
      "         ...  \n",
      "32538     >50K\n",
      "32539     >50K\n",
      "32544    <=50K\n",
      "32553    <=50K\n",
      "32554     >50K\n",
      "Name: salary, Length: 7491, dtype: object\n",
      "<=50K    53.464157\n",
      ">50K     46.535843\n",
      "Name: salary, dtype: float64\n",
      "46.5\n"
     ]
    }
   ],
   "source": [
    "higher_education_salary = higher_education['salary']\n",
    "higher_education_percentage = higher_education_salary.value_counts(normalize=True) * 100\n",
    "higher_education_rich = higher_education_percentage['>50K']\n",
    "higher_education_rich = round(higher_education_rich, 1)\n",
    "\n",
    "print(higher_education_salary)\n",
    "print(higher_education_percentage)\n",
    "print(higher_education_rich)\n"
   ]
  },
  {
   "cell_type": "code",
   "execution_count": 99,
   "metadata": {},
   "outputs": [
    {
     "name": "stdout",
     "output_type": "stream",
     "text": [
      "17.4\n"
     ]
    }
   ],
   "source": [
    "lower_education_salary = lower_education['salary']\n",
    "lower_education_percentage = lower_education_salary.value_counts(normalize=True) * 100\n",
    "lower_education_rich = lower_education_percentage['>50K']\n",
    "lower_education_rich = round(lower_education_rich, 1)\n",
    "\n",
    "print(lower_education_rich)"
   ]
  },
  {
   "cell_type": "code",
   "execution_count": 55,
   "metadata": {},
   "outputs": [
    {
     "name": "stdout",
     "output_type": "stream",
     "text": [
      "1     20\n",
      "2     32\n",
      "3     39\n",
      "4     54\n",
      "5     60\n",
      "      ..\n",
      "95     2\n",
      "96     5\n",
      "97     2\n",
      "98    11\n",
      "99    85\n",
      "Name: hours-per-week, Length: 94, dtype: int64\n",
      "1\n"
     ]
    }
   ],
   "source": [
    "work_hours = df['hours-per-week'].value_counts().sort_index()\n",
    "min_work_hours = df['hours-per-week'].min()\n",
    "print(work_hours)\n",
    "print(min_work_hours)"
   ]
  },
  {
   "cell_type": "code",
   "execution_count": 67,
   "metadata": {},
   "outputs": [
    {
     "name": "stdout",
     "output_type": "stream",
     "text": [
      "<=50K    90.0\n",
      ">50K     10.0\n",
      "Name: salary, dtype: float64\n",
      " ----- \n",
      "10.0 %\n",
      " ----- \n"
     ]
    }
   ],
   "source": [
    "num_min_workers = df.loc[df['hours-per-week'] == 1]\n",
    "min_workers_salary = num_min_workers['salary']\n",
    "min_workers_percentage = min_workers_salary.value_counts(normalize=True) * 100\n",
    "rich_percentage = min_workers_percentage['>50K']\n",
    "\n",
    "\n",
    "# min_workers_salary_counts = min_workers_salary.value_counts()\n",
    "\n",
    "# print(num_min_workers[['hours-per-week', 'salary']])\n",
    "# print(' ----- ')\n",
    "\n",
    "print(min_workers_percentage)\n",
    "print(' ----- ')\n",
    "\n",
    "# print(min_workers_salary)\n",
    "# print(' ----- ')\n",
    "\n",
    "# print(min_workers_salary_counts)\n",
    "# print(' ----- ')\n",
    "\n",
    "print(rich_percentage, '%')\n",
    "print(' ----- ')"
   ]
  },
  {
   "cell_type": "code",
   "execution_count": 79,
   "metadata": {},
   "outputs": [
    {
     "data": {
      "text/plain": [
       "native-country\n",
       "Holand-Netherlands             0.000000\n",
       "Outlying-US(Guam-USVI-etc)     0.000000\n",
       "Dominican-Republic             2.857143\n",
       "Columbia                       3.389831\n",
       "Guatemala                      4.687500\n",
       "Mexico                         5.132193\n",
       "Nicaragua                      5.882353\n",
       "Peru                           6.451613\n",
       "Vietnam                        7.462687\n",
       "Honduras                       7.692308\n",
       "El-Salvador                    8.490566\n",
       "Haiti                          9.090909\n",
       "Puerto-Rico                   10.526316\n",
       "Trinadad&Tobago               10.526316\n",
       "Portugal                      10.810811\n",
       "Laos                          11.111111\n",
       "Jamaica                       12.345679\n",
       "Ecuador                       14.285714\n",
       "Thailand                      16.666667\n",
       "Poland                        20.000000\n",
       "South                         20.000000\n",
       "Ireland                       20.833333\n",
       "Hungary                       23.076923\n",
       "United-States                 24.583476\n",
       "Scotland                      25.000000\n",
       "?                             25.042882\n",
       "Cuba                          26.315789\n",
       "China                         26.666667\n",
       "Greece                        27.586207\n",
       "Hong                          30.000000\n",
       "Philippines                   30.808081\n",
       "Germany                       32.116788\n",
       "Canada                        32.231405\n",
       "England                       33.333333\n",
       "Italy                         34.246575\n",
       "Cambodia                      36.842105\n",
       "Yugoslavia                    37.500000\n",
       "Japan                         38.709677\n",
       "Taiwan                        39.215686\n",
       "India                         40.000000\n",
       "France                        41.379310\n",
       "Iran                          41.860465\n",
       "Name: >50K, dtype: float64"
      ]
     },
     "execution_count": 79,
     "metadata": {},
     "output_type": "execute_result"
    }
   ],
   "source": [
    "countries = df.groupby('native-country')['salary'].value_counts(normalize=True).unstack().fillna(0)\n",
    "# print(countries)\n",
    "\n",
    "countries_rich = countries['>50K'] * 100\n",
    "countries_rich.sort_values()"
   ]
  },
  {
   "cell_type": "code",
   "execution_count": 100,
   "metadata": {},
   "outputs": [
    {
     "name": "stdout",
     "output_type": "stream",
     "text": [
      "Iran\n",
      "41.9\n"
     ]
    }
   ],
   "source": [
    "highest_earning_country = countries_rich.idxmax()\n",
    "highest_earning_country_percentage =  countries_rich.max()\n",
    "highest_earning_country_percentage = round(\n",
    "      highest_earning_country_percentage, 1)\n",
    "print(highest_earning_country)\n",
    "print(highest_earning_country_percentage)"
   ]
  },
  {
   "cell_type": "code",
   "execution_count": 91,
   "metadata": {},
   "outputs": [
    {
     "name": "stdout",
     "output_type": "stream",
     "text": [
      "Prof-specialty      25\n",
      "Exec-managerial      8\n",
      "Other-service        2\n",
      "Tech-support         2\n",
      "Transport-moving     1\n",
      "Sales                1\n",
      "Adm-clerical         1\n",
      "Name: occupation, dtype: int64\n"
     ]
    },
    {
     "data": {
      "text/plain": [
       "'Prof-specialty'"
      ]
     },
     "execution_count": 91,
     "metadata": {},
     "output_type": "execute_result"
    }
   ],
   "source": [
    "india = df[df['native-country'] == 'India']\n",
    "india_rich = india[india['salary'] == '>50K']\n",
    "india_rich_occupations = india_rich['occupation'].value_counts()\n",
    "print(india_rich_occupations)\n",
    "top_IN_occupation = india_rich_occupations.idxmax()\n",
    "top_IN_occupation"
   ]
  },
  {
   "cell_type": "code",
   "execution_count": null,
   "metadata": {},
   "outputs": [],
   "source": []
  }
 ],
 "metadata": {
  "kernelspec": {
   "display_name": "base",
   "language": "python",
   "name": "python3"
  },
  "language_info": {
   "codemirror_mode": {
    "name": "ipython",
    "version": 3
   },
   "file_extension": ".py",
   "mimetype": "text/x-python",
   "name": "python",
   "nbconvert_exporter": "python",
   "pygments_lexer": "ipython3",
   "version": "3.9.13"
  }
 },
 "nbformat": 4,
 "nbformat_minor": 2
}
